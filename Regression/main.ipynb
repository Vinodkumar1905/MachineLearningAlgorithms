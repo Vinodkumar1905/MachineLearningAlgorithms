{
 "cells": [
  {
   "cell_type": "code",
   "execution_count": 14,
   "id": "884d29e4",
   "metadata": {},
   "outputs": [],
   "source": [
    "import pandas as pd\n",
    "import numpy as np \n",
    "from utilities import testTrainSplit\n",
    "from utilities import predict,fit\n",
    "from utilities import scaling_data\n",
    "\n",
    "\n"
   ]
  },
  {
   "cell_type": "code",
   "execution_count": 17,
   "id": "46eec57c",
   "metadata": {},
   "outputs": [
    {
     "name": "stdout",
     "output_type": "stream",
     "text": [
      "<class 'pandas.core.frame.DataFrame'>\n",
      "RangeIndex: 50 entries, 0 to 49\n",
      "Data columns (total 4 columns):\n",
      " #   Column    Non-Null Count  Dtype\n",
      "---  ------    --------------  -----\n",
      " 0   area      50 non-null     int64\n",
      " 1   bedrooms  50 non-null     int64\n",
      " 2   age       50 non-null     int64\n",
      " 3   price     50 non-null     int64\n",
      "dtypes: int64(4)\n",
      "memory usage: 1.7 KB\n",
      "None\n"
     ]
    }
   ],
   "source": [
    "data = pd.read_csv(\"./Data/my.csv\")\n",
    "print(data.info())"
   ]
  },
  {
   "cell_type": "code",
   "execution_count": null,
   "id": "ced0a813",
   "metadata": {},
   "outputs": [
    {
     "name": "stdout",
     "output_type": "stream",
     "text": [
      "[ 90662.19371075  25803.68546026 -14393.11779461] 426749.99999997485\n"
     ]
    }
   ],
   "source": [
    "X = data.drop(columns=\"price\")\n",
    "y = data[\"price\"]\n",
    "x_train,x_test,y_train,y_test=testTrainSplit(X,y,0.8)\n",
    "x_train,x_test,meanX,stdX=scaling_data(x_train,x_test)\n",
    "m,n = X.shape\n",
    "w = np.arange(n)\n",
    "w,b,cost_history = fit(x_train,y_train,w,0,30e-3, 1000)\n",
    "print(w,b)\n"
   ]
  },
  {
   "cell_type": "code",
   "execution_count": 40,
   "id": "dc72ad63",
   "metadata": {},
   "outputs": [],
   "source": [
    "sol = predict(x_test,w,b)"
   ]
  },
  {
   "cell_type": "code",
   "execution_count": 41,
   "id": "6916d4b0",
   "metadata": {},
   "outputs": [
    {
     "name": "stdout",
     "output_type": "stream",
     "text": [
      "Sklearn test MSE: 1524035420.995679\n",
      "Sklearn test R2: 0.917682001674642\n",
      "Sklearn coef: [ 94545.6688152   22069.32336998 -14189.4975422 ] intercept: 426750.00000000006\n",
      "GD test MSE: 1558110400.1134515\n",
      "GD test R2: 0.9158415037207814\n",
      "GD coef: [ 90662.19371075  25803.68546026 -14393.11779461] intercept: 426749.99999997485\n"
     ]
    }
   ],
   "source": [
    "# its just comparison to check wether our code is predicting nearly same as \n",
    "# SkLearns regression model or not \n",
    "from sklearn.linear_model import LinearRegression\n",
    "from sklearn.metrics import mean_squared_error, r2_score\n",
    "\n",
    "# sklearn OLS (fiting on  same X_tr and y_train we used for our GD)\n",
    "lr = LinearRegression().fit(x_train, y_train)\n",
    "y_pred_lr = lr.predict(x_test)\n",
    "print(\"Sklearn test MSE:\", mean_squared_error(y_test, y_pred_lr))\n",
    "print(\"Sklearn test R2:\", r2_score(y_test, y_pred_lr))\n",
    "print(\"Sklearn coef:\", lr.coef_, \"intercept:\", lr.intercept_)\n",
    "\n",
    "# our gradient descent  predictions\n",
    "y_pred_gd = x_test.dot(w) + b\n",
    "print(\"GD test MSE:\", mean_squared_error(y_test, y_pred_gd))\n",
    "print(\"GD test R2:\", r2_score(y_test, y_pred_gd))\n",
    "print(\"GD coef:\", w, \"intercept:\", b)\n"
   ]
  },
  {
   "cell_type": "code",
   "execution_count": null,
   "id": "c5fac593",
   "metadata": {},
   "outputs": [],
   "source": []
  }
 ],
 "metadata": {
  "kernelspec": {
   "display_name": "Python 3",
   "language": "python",
   "name": "python3"
  },
  "language_info": {
   "codemirror_mode": {
    "name": "ipython",
    "version": 3
   },
   "file_extension": ".py",
   "mimetype": "text/x-python",
   "name": "python",
   "nbconvert_exporter": "python",
   "pygments_lexer": "ipython3",
   "version": "3.13.2"
  }
 },
 "nbformat": 4,
 "nbformat_minor": 5
}
