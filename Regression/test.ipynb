{
 "cells": [
  {
   "cell_type": "code",
   "execution_count": 1,
   "id": "c1eed80b",
   "metadata": {},
   "outputs": [],
   "source": [
    "import pandas as pd\n",
    "import numpy as np \n",
    "from utilities import hotEncode,testTrainSplit,scaling_data,predict,fit\n",
    "data = pd.read_csv(\"./Data/Data.csv\")\n",
    "sampleData =  data.copy()"
   ]
  },
  {
   "cell_type": "code",
   "execution_count": 2,
   "id": "1270533a",
   "metadata": {},
   "outputs": [],
   "source": [
    "sampleData = hotEncode(sampleData,\"propertytype\",True)"
   ]
  },
  {
   "cell_type": "code",
   "execution_count": 3,
   "id": "68520f1a",
   "metadata": {},
   "outputs": [],
   "source": [
    "sampleData.to_csv(\"./Data/finalData.csv\",index=False)"
   ]
  },
  {
   "cell_type": "code",
   "execution_count": 4,
   "id": "d224f0d7",
   "metadata": {},
   "outputs": [],
   "source": [
    "data = pd.read_csv(\"./Data/finalData.csv\")"
   ]
  },
  {
   "cell_type": "code",
   "execution_count": 7,
   "id": "693da279",
   "metadata": {},
   "outputs": [
    {
     "name": "stdout",
     "output_type": "stream",
     "text": [
      "[ 4481683.71016767 11713049.1979723  -1008676.73510893  1911677.55820851\n",
      "  -517681.68825631] 18771594.806033373\n"
     ]
    }
   ],
   "source": [
    "data.head()\n",
    "X = data.drop(columns=\"totalprice\")\n",
    "X = X[X[\"location\"]==\"Ahmedabad\"]\n",
    "X = X.drop(columns=[\"location\",\"pricepersqft\"])\n",
    "y = data[\"totalprice\"]\n",
    "x_train,x_test,y_train,y_test=testTrainSplit(X,y,0.8)\n",
    "x_train,x_test,meanX,stdX=scaling_data(x_train,x_test)\n",
    "m,n = X.shape\n",
    "w = np.arange(n)\n",
    "w,b,cost_history = fit(x_train,y_train,w,0,30e-3, 1000)\n",
    "print(w,b)\n"
   ]
  },
  {
   "cell_type": "code",
   "execution_count": null,
   "id": "e8f2d918",
   "metadata": {},
   "outputs": [],
   "source": []
  },
  {
   "cell_type": "code",
   "execution_count": 8,
   "id": "342fc968",
   "metadata": {},
   "outputs": [
    {
     "name": "stdout",
     "output_type": "stream",
     "text": [
      "Sklearn test MSE: 88105270238333.33\n",
      "Sklearn test R2: 0.7988841413580321\n",
      "Sklearn coef: [ 4481319.24080488 11713419.15955313 -1008678.39440644  1911710.47302455\n",
      "  -517722.07392145] intercept: 18771594.806034483\n",
      "GD test MSE: 88105080547999.67\n",
      "GD test R2: 0.7988845743597609\n",
      "GD coef: [ 4481683.71016767 11713049.1979723  -1008676.73510893  1911677.55820851\n",
      "  -517681.68825631] intercept: 18771594.806033373\n"
     ]
    }
   ],
   "source": [
    "from sklearn.linear_model import LinearRegression\n",
    "from sklearn.metrics import mean_squared_error, r2_score\n",
    "\n",
    "# sklearn OLS (fiting on  same X_tr and y_train we used for our GD)\n",
    "lr = LinearRegression().fit(x_train, y_train)\n",
    "y_pred_lr = lr.predict(x_test)\n",
    "print(\"Sklearn test MSE:\", mean_squared_error(y_test, y_pred_lr))\n",
    "print(\"Sklearn test R2:\", r2_score(y_test, y_pred_lr))\n",
    "print(\"Sklearn coef:\", lr.coef_, \"intercept:\", lr.intercept_)\n",
    "\n",
    "# our gradient descent  predictions\n",
    "y_pred_gd = x_test.dot(w) + b\n",
    "print(\"GD test MSE:\", mean_squared_error(y_test, y_pred_gd))\n",
    "print(\"GD test R2:\", r2_score(y_test, y_pred_gd))\n",
    "print(\"GD coef:\", w, \"intercept:\", b)"
   ]
  }
 ],
 "metadata": {
  "kernelspec": {
   "display_name": "Python 3",
   "language": "python",
   "name": "python3"
  },
  "language_info": {
   "codemirror_mode": {
    "name": "ipython",
    "version": 3
   },
   "file_extension": ".py",
   "mimetype": "text/x-python",
   "name": "python",
   "nbconvert_exporter": "python",
   "pygments_lexer": "ipython3",
   "version": "3.13.2"
  }
 },
 "nbformat": 4,
 "nbformat_minor": 5
}
