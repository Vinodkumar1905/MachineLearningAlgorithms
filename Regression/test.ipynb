{
 "cells": [
  {
   "cell_type": "code",
   "execution_count": 1,
   "id": "c1eed80b",
   "metadata": {},
   "outputs": [],
   "source": [
    "import pandas as pd\n",
    "import numpy as np \n",
    "from utilities import hotEncode,testTrainSplit,scaling_data,predict,fit\n",
    "data = pd.read_csv(\"./Data/Data.csv\")\n",
    "sampleData =  data.copy()"
   ]
  },
  {
   "cell_type": "code",
   "execution_count": 2,
   "id": "1270533a",
   "metadata": {},
   "outputs": [],
   "source": [
    "sampleData = hotEncode(sampleData,\"propertytype\",True)"
   ]
  },
  {
   "cell_type": "code",
   "execution_count": 3,
   "id": "68520f1a",
   "metadata": {},
   "outputs": [],
   "source": [
    "sampleData.to_csv(\"./Data/finalData.csv\",index=False)"
   ]
  },
  {
   "cell_type": "code",
   "execution_count": 4,
   "id": "d224f0d7",
   "metadata": {},
   "outputs": [],
   "source": [
    "data = pd.read_csv(\"./Data/finalData.csv\")"
   ]
  },
  {
   "cell_type": "code",
   "execution_count": 19,
   "id": "693da279",
   "metadata": {},
   "outputs": [
    {
     "name": "stdout",
     "output_type": "stream",
     "text": [
      "(58, 5)\n",
      "(58,)\n",
      "(232, 5)\n",
      "(58, 5)\n",
      "(58,)\n",
      "[ 5601985.51931359 11201905.2600278  -1224124.17227952  1933263.79481312\n",
      "   -83256.01677807] 19524870.668102298\n"
     ]
    }
   ],
   "source": [
    "data.head()\n",
    "X = data.drop(columns=\"totalprice\")\n",
    "X = X[X[\"location\"]==\"Ahmedabad\"]\n",
    "X = X.drop(columns=[\"location\",\"pricepersqft\"])\n",
    "y = data[\"totalprice\"]\n",
    "x_train,x_test,y_train,y_test=testTrainSplit(X,y,0.8)\n",
    "print(x_test.shape)\n",
    "print(y_test.shape)\n",
    "x_train,x_test,meanX,stdX=scaling_data(x_train,x_test)\n",
    "\n",
    "print(x_train.shape)\n",
    "print(x_test.shape)\n",
    "print(y_test.shape)\n",
    "m,n = X.shape\n",
    "w = np.arange(n)\n",
    "w,b,cost_history = fit(x_train,y_train,w,0,30e-3, 1000)\n",
    "print(w,b)\n"
   ]
  },
  {
   "cell_type": "code",
   "execution_count": 15,
   "id": "e8f2d918",
   "metadata": {},
   "outputs": [
    {
     "name": "stdout",
     "output_type": "stream",
     "text": [
      "(58, 5)\n",
      "(58,)\n"
     ]
    }
   ],
   "source": [
    "print(x_test.shape)\n",
    "print(y_test.shape)\n"
   ]
  },
  {
   "cell_type": "code",
   "execution_count": 20,
   "id": "342fc968",
   "metadata": {},
   "outputs": [
    {
     "name": "stdout",
     "output_type": "stream",
     "text": [
      "Sklearn test MSE: 87387167499048.36\n",
      "Sklearn test R2: 0.759254658142497\n",
      "Sklearn coef: [ 5601399.79706706 11202493.70936835 -1224149.49465045  1933358.29791938\n",
      "   -83313.34695779] intercept: 19524870.66810345\n",
      "GD test MSE: 87389431669375.36\n",
      "GD test R2: 0.7592484205165961\n",
      "GD coef: [ 5601985.51931359 11201905.2600278  -1224124.17227952  1933263.79481312\n",
      "   -83256.01677807] intercept: 19524870.668102298\n"
     ]
    }
   ],
   "source": [
    "from sklearn.linear_model import LinearRegression\n",
    "from sklearn.metrics import mean_squared_error, r2_score\n",
    "\n",
    "# sklearn OLS (fiting on  same X_tr and y_train we used for our GD)\n",
    "lr = LinearRegression().fit(x_train, y_train)\n",
    "y_pred_lr = lr.predict(x_test)\n",
    "print(\"Sklearn test MSE:\", mean_squared_error(y_test, y_pred_lr))\n",
    "print(\"Sklearn test R2:\", r2_score(y_test, y_pred_lr))\n",
    "print(\"Sklearn coef:\", lr.coef_, \"intercept:\", lr.intercept_)\n",
    "\n",
    "# our gradient descent  predictions\n",
    "y_pred_gd = x_test.dot(w) + b\n",
    "print(\"GD test MSE:\", mean_squared_error(y_test, y_pred_gd))\n",
    "print(\"GD test R2:\", r2_score(y_test, y_pred_gd))\n",
    "print(\"GD coef:\", w, \"intercept:\", b)"
   ]
  },
  {
   "cell_type": "code",
   "execution_count": null,
   "id": "811d32e1",
   "metadata": {},
   "outputs": [],
   "source": []
  }
 ],
 "metadata": {
  "kernelspec": {
   "display_name": "Python 3",
   "language": "python",
   "name": "python3"
  },
  "language_info": {
   "codemirror_mode": {
    "name": "ipython",
    "version": 3
   },
   "file_extension": ".py",
   "mimetype": "text/x-python",
   "name": "python",
   "nbconvert_exporter": "python",
   "pygments_lexer": "ipython3",
   "version": "3.13.2"
  }
 },
 "nbformat": 4,
 "nbformat_minor": 5
}
